{
 "cells": [
  {
   "cell_type": "markdown",
   "metadata": {},
   "source": [
    "# Download data for events\n",
    "This part of the code will be used to download event data.\n",
    "\n",
    "It is based on Josh Russell's **fetch_EVENTS**.\n",
    "\n",
    "*william b hawley april 2020*"
   ]
  },
  {
   "cell_type": "code",
   "execution_count": 2,
   "metadata": {},
   "outputs": [
    {
     "name": "stdout",
     "output_type": "stream",
     "text": [
      "The autoreload extension is already loaded. To reload it, use:\n",
      "  %reload_ext autoreload\n"
     ]
    }
   ],
   "source": [
    "from config import *\n",
    "import os\n",
    "\n",
    "import numpy as np\n",
    "import matplotlib.pyplot as plt\n",
    "\n",
    "import obspy\n",
    "from obspy.clients.fdsn import Client\n",
    "from obspy import UTCDateTime\n",
    "from obspy.geodetics import gps2dist_azimuth, locations2degrees\n",
    "from obspy.io.sac import SACTrace\n",
    "\n",
    "from datetime import datetime\n",
    "import calendar\n",
    "\n",
    "%matplotlib inline\n",
    "%load_ext autoreload\n",
    "%autoreload"
   ]
  },
  {
   "cell_type": "code",
   "execution_count": 3,
   "metadata": {},
   "outputs": [],
   "source": [
    "# Check to see if data directory exists\n",
    "if not os.path.exists(DataDir):\n",
    "    os.makedirs(DataDir)\n",
    "\n",
    "# load the client\n",
    "client = Client(webservice)"
   ]
  },
  {
   "cell_type": "code",
   "execution_count": 4,
   "metadata": {},
   "outputs": [
    {
     "name": "stdout",
     "output_type": "stream",
     "text": [
      "1 events in catalogue.\n"
     ]
    }
   ],
   "source": [
    "# Load event catalogue\n",
    "t1 = UTCDateTime(tstart)\n",
    "t2 = UTCDateTime(tend)\n",
    "catIRIS = client.get_events(starttime=t1, endtime=t2, minmagnitude=minMag)\n",
    "\n",
    "print((str(len(catIRIS))+\" events in catalogue.\"))\n",
    "\n",
    "# Load stations\n",
    "inventory = client.get_stations(network=network, station=','.join(StaList), channel=','.join(ChanList), starttime=t1, endtime=t2)"
   ]
  },
  {
   "cell_type": "code",
   "execution_count": 6,
   "metadata": {},
   "outputs": [
    {
     "name": "stdout",
     "output_type": "stream",
     "text": [
      "Working on event 201209262339\n",
      "File /Users/wbhawley/Research/Seismology/Download-Seismic-Data/data/SAC_Events/201209262339/201209262339.X9.BB030.LHZ.sac exists; skipping\n",
      "File /Users/wbhawley/Research/Seismology/Download-Seismic-Data/data/SAC_Events/201209262339/201209262339.X9.BB030.LH1.sac exists; skipping\n",
      "File /Users/wbhawley/Research/Seismology/Download-Seismic-Data/data/SAC_Events/201209262339/201209262339.X9.BB030.LH2.sac exists; skipping\n",
      "File /Users/wbhawley/Research/Seismology/Download-Seismic-Data/data/SAC_Events/201209262339/201209262339.X9.BB030.BDH.sac exists; skipping\n",
      "File /Users/wbhawley/Research/Seismology/Download-Seismic-Data/data/SAC_Events/201209262339/201209262339.X9.BB060.LHZ.sac exists; skipping\n",
      "File /Users/wbhawley/Research/Seismology/Download-Seismic-Data/data/SAC_Events/201209262339/201209262339.X9.BB060.LH1.sac exists; skipping\n",
      "File /Users/wbhawley/Research/Seismology/Download-Seismic-Data/data/SAC_Events/201209262339/201209262339.X9.BB060.LH2.sac exists; skipping\n",
      "File /Users/wbhawley/Research/Seismology/Download-Seismic-Data/data/SAC_Events/201209262339/201209262339.X9.BB060.BDH.sac exists; skipping\n"
     ]
    }
   ],
   "source": [
    "# Get event times\n",
    "f = open(EventsFileName,'w')\n",
    "for iev in range(0,len(catIRIS)):\n",
    "    if isCMT_params: \n",
    "        if isCentroid:\n",
    "            ior = 1\n",
    "        else:\n",
    "            ior = 0\n",
    "        \n",
    "        # if searching CMT catalogue, pull out necessary time info\n",
    "        time = catIRIS[iev].origins[0].time\n",
    "        date = datetime.strptime(str(time),'%Y-%m-%dT%H:%M:%S.%fZ')\n",
    "        month = calendar.month_abbr[date.month].lower()\n",
    "        year = str(date.year)\n",
    "        \n",
    "        # in case time is not exactly the same...\n",
    "        time1 = str(time-50) #+/- 50 seconds\n",
    "        time2 = str(time+50)\n",
    "        catCMT = obspy.read_events(\"https://www.ldeo.columbia.edu/~gcmt/projects/CMT/catalog/NEW_MONTHLY/\"+year+\"/\"+month+\"\"+year[2:4]+\".ndk\")\n",
    "        cat_filt = catCMT.filter('time > '+time1, 'time < '+time2, 'magnitude >= '+str(minMag-1))\n",
    "        if len(cat_filt)==0:\n",
    "            print('Cannot find event in GCMT catalogue... using IRIS')\n",
    "            cat = catIRIS[iev].copy()\n",
    "            ior = 0\n",
    "        else:\n",
    "            cat = cat_filt[0].copy()\n",
    "    else:\n",
    "        cat = catIRIS[iev].copy()\n",
    "        ior = 0\n",
    "    \n",
    "    # earthquake parameters\n",
    "    evT1 = cat.origins[ior].time\n",
    "    evT2 = evT1 + trLen\n",
    "    evdp = cat.origins[ior].depth\n",
    "    evla = cat.origins[ior].latitude\n",
    "    evlo = cat.origins[ior].longitude\n",
    "    mag = cat.magnitudes[0].mag\n",
    "    \n",
    "    # date for naming folders\n",
    "    date = datetime.strptime(str(evT1),'%Y-%m-%dT%H:%M:%S.%fZ')\n",
    "    evName = date.strftime('%Y%m%d%H%M')\n",
    "    evDir = EventsDataDir + evName + '/'\n",
    "    f.write(evName+'\\n')\n",
    "    if not os.path.exists(evDir):\n",
    "        os.makedirs(evDir)\n",
    "    print('Working on event '+evName)\n",
    "        \n",
    "    # loop through stations\n",
    "    #for ista in range(0,len(inventoryX[0])):\n",
    "    for ista in range(0,len(inventory[0])):\n",
    "        stel = inventory[0].stations[ista].elevation\n",
    "        stla = inventory[0].stations[ista].latitude\n",
    "        stlo = inventory[0].stations[ista].longitude\n",
    "        station = inventory[0].stations[ista].code\n",
    "        vals = gps2dist_azimuth(lat1=stla, lon1=stlo, lat2=evla, lon2=evlo)\n",
    "        dist = vals[0]\n",
    "        baz = vals[1]\n",
    "        az = vals[2]\n",
    "        gcarc = locations2degrees(lat1=stla, long1=stlo, lat2=evla, long2=evlo)\n",
    "        \n",
    "        # Loop through components... \n",
    "        for comp in ChanList:\n",
    "            \n",
    "            sac_out = evDir + evName + '.' + network + '.' + station + '.' + comp + '.sac'\n",
    "            if os.path.exists(sac_out):\n",
    "                print(\"File \"+sac_out+\" exists; skipping\")\n",
    "                continue\n",
    "\n",
    "            try:\n",
    "                st = client.get_waveforms(network=network, station=station, location='*', channel=comp, starttime=evT1, endtime=evT2, attach_response=True)\n",
    "            except Exception:\n",
    "                print('Missing data for station: ',station)\n",
    "                continue\n",
    "                \n",
    "            # check for gaps\n",
    "            if len(st) > 1:\n",
    "                st.merge(method=1, fill_value=0)\n",
    "            sr = st[0].stats.sampling_rate\n",
    "            st.remove_response(output=\"DISP\", zero_mean=True, taper=True, taper_fraction=0.05, pre_filt=[LoFreq1,LoFreq2,sr/3,sr/2], water_level=60)\n",
    "            st.trim(starttime=evT1, endtime=evT2, pad=True, nearest_sample=False, fill_value=0)\n",
    "            st.detrend(type='demean')\n",
    "            st.detrend(type='linear')\n",
    "            st.taper(type='cosine',max_percentage=0.05)\n",
    "            \n",
    "            # downsample the trace\n",
    "            if isDownsamp==1:\n",
    "                st.filter('lowpass', freq=0.4*srNew, zerophase=True) #anti-alias\n",
    "                st.resample(sampling_rate=srNew)\n",
    "                st.detrend(type='demean')\n",
    "                st.detrend(type='linear')\n",
    "                st.taper(type='cosine',max_percentage=0.05)\n",
    "                \n",
    "            # convert to SAC\n",
    "            sac = SACTrace.from_obspy_trace(st[0])\n",
    "            sac.stel = stel\n",
    "            sac.stla = stla\n",
    "            sac.stlo = stlo\n",
    "            sac.evdp = evdp\n",
    "            sac.evla = evla\n",
    "            sac.evlo = evlo\n",
    "            sac.mag = mag\n",
    "            sac.dist = dist\n",
    "            sac.az = az\n",
    "            sac.baz = baz\n",
    "            sac.gcarc = gcarc\n",
    "            sac.kcmpnm = comp\n",
    "            \n",
    "            sac_out = evDir + evName + '.' + network + '.' + station + '.' + comp + '.sac'\n",
    "            sac.write(sac_out)\n",
    "            \n",
    "f.close()"
   ]
  },
  {
   "cell_type": "code",
   "execution_count": null,
   "metadata": {},
   "outputs": [],
   "source": []
  }
 ],
 "metadata": {
  "kernelspec": {
   "display_name": "Python 3",
   "language": "python",
   "name": "python3"
  },
  "language_info": {
   "codemirror_mode": {
    "name": "ipython",
    "version": 3
   },
   "file_extension": ".py",
   "mimetype": "text/x-python",
   "name": "python",
   "nbconvert_exporter": "python",
   "pygments_lexer": "ipython3",
   "version": "3.7.7"
  }
 },
 "nbformat": 4,
 "nbformat_minor": 4
}
